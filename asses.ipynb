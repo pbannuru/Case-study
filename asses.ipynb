{
 "cells": [
  {
   "cell_type": "code",
   "execution_count": 1,
   "id": "693e93b0",
   "metadata": {
    "ExecuteTime": {
     "end_time": "2023-01-03T12:51:26.227760Z",
     "start_time": "2023-01-03T12:51:26.201609Z"
    }
   },
   "outputs": [],
   "source": [
    "with open('handling.txt','w') as f: # w = removes old content and add new content \n",
    "    f.write('Hello world')"
   ]
  },
  {
   "cell_type": "code",
   "execution_count": 2,
   "id": "92f3ca54",
   "metadata": {
    "ExecuteTime": {
     "end_time": "2023-01-03T12:51:26.243275Z",
     "start_time": "2023-01-03T12:51:26.229762Z"
    }
   },
   "outputs": [
    {
     "name": "stdout",
     "output_type": "stream",
     "text": [
      "['Hello world']\n"
     ]
    }
   ],
   "source": [
    "with open('handling.txt','r') as f: \n",
    "    print(f.readlines())"
   ]
  },
  {
   "cell_type": "code",
   "execution_count": 3,
   "id": "d6c53aa6",
   "metadata": {
    "ExecuteTime": {
     "end_time": "2023-01-03T12:51:26.258276Z",
     "start_time": "2023-01-03T12:51:26.245279Z"
    }
   },
   "outputs": [],
   "source": [
    "with open('handling.txt','a') as f: #a= append mode dont replace content but it adds content\n",
    "    f.write('\\nwho are you') "
   ]
  },
  {
   "cell_type": "code",
   "execution_count": 4,
   "id": "0a21a286",
   "metadata": {
    "ExecuteTime": {
     "end_time": "2023-01-03T12:51:26.274279Z",
     "start_time": "2023-01-03T12:51:26.261279Z"
    }
   },
   "outputs": [],
   "source": [
    "l = ['\\nhello!', '\\niam fine', '\\nwhat about you']\n",
    "with open('handling.txt','a') as f: \n",
    "    f.writelines(l)"
   ]
  },
  {
   "cell_type": "code",
   "execution_count": 5,
   "id": "4bb7b9c8",
   "metadata": {
    "ExecuteTime": {
     "end_time": "2023-01-03T12:51:26.290277Z",
     "start_time": "2023-01-03T12:51:26.276282Z"
    }
   },
   "outputs": [
    {
     "name": "stdout",
     "output_type": "stream",
     "text": [
      "Hello world\n",
      "who are \n"
     ]
    }
   ],
   "source": [
    "with open('handling.txt','r') as f: \n",
    "    print(f.read(20))"
   ]
  },
  {
   "cell_type": "code",
   "execution_count": 6,
   "id": "695d1f4a",
   "metadata": {
    "ExecuteTime": {
     "end_time": "2023-01-03T12:51:26.306276Z",
     "start_time": "2023-01-03T12:51:26.296277Z"
    }
   },
   "outputs": [
    {
     "name": "stdout",
     "output_type": "stream",
     "text": [
      "Hello world\n",
      "who are you\n",
      "\n",
      "hello!\n",
      "\n"
     ]
    }
   ],
   "source": [
    "with open('handling.txt','r') as f: \n",
    "    print(f.readline(),end=\"\")\n",
    "    print(f.readline())\n",
    "    print(f.readline())"
   ]
  },
  {
   "cell_type": "code",
   "execution_count": 7,
   "id": "b18acc1d",
   "metadata": {
    "ExecuteTime": {
     "end_time": "2023-01-03T12:51:26.321285Z",
     "start_time": "2023-01-03T12:51:26.309278Z"
    }
   },
   "outputs": [
    {
     "name": "stdout",
     "output_type": "stream",
     "text": [
      "who are you\n",
      "\n",
      "iam fine\n",
      "\n",
      "\n"
     ]
    }
   ],
   "source": [
    "with open('handling.txt','r') as f: \n",
    "    while True:\n",
    "       \n",
    "        if f.readline()==\"\":\n",
    "            break \n",
    "        else:\n",
    "            print(f.readline())"
   ]
  },
  {
   "cell_type": "code",
   "execution_count": 8,
   "id": "52500bfe",
   "metadata": {
    "ExecuteTime": {
     "end_time": "2023-01-03T12:51:26.336812Z",
     "start_time": "2023-01-03T12:51:26.323286Z"
    }
   },
   "outputs": [
    {
     "ename": "SyntaxError",
     "evalue": "(unicode error) 'unicodeescape' codec can't decode bytes in position 2-3: truncated \\UXXXXXXXX escape (4166476191.py, line 1)",
     "output_type": "error",
     "traceback": [
      "\u001b[1;36m  File \u001b[1;32m\"C:\\Users\\pbann\\AppData\\Local\\Temp\\ipykernel_11888\\4166476191.py\"\u001b[1;36m, line \u001b[1;32m1\u001b[0m\n\u001b[1;33m    with open(\"C:\\Users\\pbann\\Downloads\\pexels-mike-b-100656.jpg\",'rb') as f:\u001b[0m\n\u001b[1;37m                                                                 ^\u001b[0m\n\u001b[1;31mSyntaxError\u001b[0m\u001b[1;31m:\u001b[0m (unicode error) 'unicodeescape' codec can't decode bytes in position 2-3: truncated \\UXXXXXXXX escape\n"
     ]
    }
   ],
   "source": [
    "with open(\"C:\\Users\\pbann\\Downloads\\pexels-mike-b-100656.jpg\",'rb') as f:\n",
    "    with open('sc.jpg','wb') as p: \n",
    "        p.write(f.read())\n",
    "    "
   ]
  },
  {
   "cell_type": "code",
   "execution_count": 30,
   "id": "797979fd",
   "metadata": {
    "ExecuteTime": {
     "end_time": "2023-01-03T13:22:38.947366Z",
     "start_time": "2023-01-03T13:22:38.934510Z"
    }
   },
   "outputs": [],
   "source": [
    "import pandas as pd \n",
    "import numpy as np \n",
    "from scipy.stats import zscore\n",
    "from sklearn.model_selection import train_test_split\n",
    "from sklearn.model_selection import KFold\n",
    "from sklearn.model_selection import cross_val_score\n",
    "from sklearn.metrics import classification_report\n",
    "from sklearn.metrics import confusion_matrix\n",
    "from sklearn.metrics import accuracy_score\n",
    "from sklearn.linear_model import LinearRegression\n",
    "from sklearn.linear_model import LogisticRegression\n",
    "from sklearn.tree import DecisionTreeClassifier\n",
    "from sklearn.neighbors import KNeighborsClassifier\n",
    "from sklearn.naive_bayes import GaussianNB\n",
    "from sklearn.svm import SVC\n",
    "from sklearn.ensemble import BaggingClassifier\n",
    "from sklearn.ensemble import RandomForestClassifier\n",
    "from sklearn.ensemble import ExtraTreesClassifier\n",
    "from sklearn.ensemble import AdaBoostClassifier\n",
    "from sklearn.ensemble import GradientBoostingClassifier\n",
    "from sklearn.metrics import accuracy_score, f1_score\n",
    "import warnings\n",
    "warnings.filterwarnings('ignore')"
   ]
  },
  {
   "cell_type": "code",
   "execution_count": 10,
   "id": "68cf32f5",
   "metadata": {
    "ExecuteTime": {
     "end_time": "2023-01-03T12:51:34.836249Z",
     "start_time": "2023-01-03T12:51:34.822231Z"
    }
   },
   "outputs": [],
   "source": [
    "pd.read_csv(r'C:/Users/pbann/Downloads/1/train.csv')"
   ]
  },
  {
   "cell_type": "code",
   "execution_count": 11,
   "id": "04ee6784",
   "metadata": {
    "ExecuteTime": {
     "end_time": "2023-01-03T12:51:35.558457Z",
     "start_time": "2023-01-03T12:51:35.550787Z"
    }
   },
   "outputs": [],
   "source": [
    "df=pd.read_csv(r'C:\\Users\\pbann\\Downloads\\training-training-train\\train.csv')"
   ]
  },
  {
   "cell_type": "code",
   "execution_count": 12,
   "id": "a3486e25",
   "metadata": {
    "ExecuteTime": {
     "end_time": "2023-01-03T12:51:36.288533Z",
     "start_time": "2023-01-03T12:51:36.263913Z"
    }
   },
   "outputs": [
    {
     "data": {
      "text/html": [
       "<div>\n",
       "<style scoped>\n",
       "    .dataframe tbody tr th:only-of-type {\n",
       "        vertical-align: middle;\n",
       "    }\n",
       "\n",
       "    .dataframe tbody tr th {\n",
       "        vertical-align: top;\n",
       "    }\n",
       "\n",
       "    .dataframe thead th {\n",
       "        text-align: right;\n",
       "    }\n",
       "</style>\n",
       "<table border=\"1\" class=\"dataframe\">\n",
       "  <thead>\n",
       "    <tr style=\"text-align: right;\">\n",
       "      <th></th>\n",
       "      <th>Sem 1</th>\n",
       "      <th>Sem 2</th>\n",
       "      <th>Sem 3</th>\n",
       "      <th>Sem 4</th>\n",
       "      <th>target</th>\n",
       "    </tr>\n",
       "  </thead>\n",
       "  <tbody>\n",
       "    <tr>\n",
       "      <th>10</th>\n",
       "      <td>3.11</td>\n",
       "      <td>3.43</td>\n",
       "      <td>3.27</td>\n",
       "      <td>3.09</td>\n",
       "      <td>0</td>\n",
       "    </tr>\n",
       "    <tr>\n",
       "      <th>11</th>\n",
       "      <td>2.81</td>\n",
       "      <td>2.97</td>\n",
       "      <td>3.04</td>\n",
       "      <td>2.82</td>\n",
       "      <td>0</td>\n",
       "    </tr>\n",
       "    <tr>\n",
       "      <th>18</th>\n",
       "      <td>2.62</td>\n",
       "      <td>2.93</td>\n",
       "      <td>2.63</td>\n",
       "      <td>2.25</td>\n",
       "      <td>0</td>\n",
       "    </tr>\n",
       "    <tr>\n",
       "      <th>20</th>\n",
       "      <td>3.15</td>\n",
       "      <td>3.36</td>\n",
       "      <td>3.38</td>\n",
       "      <td>3.41</td>\n",
       "      <td>0</td>\n",
       "    </tr>\n",
       "    <tr>\n",
       "      <th>24</th>\n",
       "      <td>3.06</td>\n",
       "      <td>3.34</td>\n",
       "      <td>3.07</td>\n",
       "      <td>2.84</td>\n",
       "      <td>0</td>\n",
       "    </tr>\n",
       "    <tr>\n",
       "      <th>...</th>\n",
       "      <td>...</td>\n",
       "      <td>...</td>\n",
       "      <td>...</td>\n",
       "      <td>...</td>\n",
       "      <td>...</td>\n",
       "    </tr>\n",
       "    <tr>\n",
       "      <th>1285</th>\n",
       "      <td>2.19</td>\n",
       "      <td>2.43</td>\n",
       "      <td>2.43</td>\n",
       "      <td>3.17</td>\n",
       "      <td>0</td>\n",
       "    </tr>\n",
       "    <tr>\n",
       "      <th>1293</th>\n",
       "      <td>3.13</td>\n",
       "      <td>3.32</td>\n",
       "      <td>3.29</td>\n",
       "      <td>3.06</td>\n",
       "      <td>0</td>\n",
       "    </tr>\n",
       "    <tr>\n",
       "      <th>1318</th>\n",
       "      <td>2.06</td>\n",
       "      <td>2.38</td>\n",
       "      <td>1.88</td>\n",
       "      <td>1.50</td>\n",
       "      <td>0</td>\n",
       "    </tr>\n",
       "    <tr>\n",
       "      <th>1321</th>\n",
       "      <td>3.11</td>\n",
       "      <td>3.23</td>\n",
       "      <td>3.16</td>\n",
       "      <td>2.15</td>\n",
       "      <td>0</td>\n",
       "    </tr>\n",
       "    <tr>\n",
       "      <th>1333</th>\n",
       "      <td>2.80</td>\n",
       "      <td>2.08</td>\n",
       "      <td>2.29</td>\n",
       "      <td>2.40</td>\n",
       "      <td>0</td>\n",
       "    </tr>\n",
       "  </tbody>\n",
       "</table>\n",
       "<p>108 rows × 5 columns</p>\n",
       "</div>"
      ],
      "text/plain": [
       "      Sem 1  Sem 2  Sem 3  Sem 4  target\n",
       "10     3.11   3.43   3.27   3.09       0\n",
       "11     2.81   2.97   3.04   2.82       0\n",
       "18     2.62   2.93   2.63   2.25       0\n",
       "20     3.15   3.36   3.38   3.41       0\n",
       "24     3.06   3.34   3.07   2.84       0\n",
       "...     ...    ...    ...    ...     ...\n",
       "1285   2.19   2.43   2.43   3.17       0\n",
       "1293   3.13   3.32   3.29   3.06       0\n",
       "1318   2.06   2.38   1.88   1.50       0\n",
       "1321   3.11   3.23   3.16   2.15       0\n",
       "1333   2.80   2.08   2.29   2.40       0\n",
       "\n",
       "[108 rows x 5 columns]"
      ]
     },
     "execution_count": 12,
     "metadata": {},
     "output_type": "execute_result"
    }
   ],
   "source": [
    "df[df['target']==0]"
   ]
  },
  {
   "cell_type": "code",
   "execution_count": 13,
   "id": "8466a35c",
   "metadata": {
    "ExecuteTime": {
     "end_time": "2023-01-03T12:51:36.926838Z",
     "start_time": "2023-01-03T12:51:36.913478Z"
    }
   },
   "outputs": [
    {
     "data": {
      "text/plain": [
       "1    1241\n",
       "0     108\n",
       "Name: target, dtype: int64"
      ]
     },
     "execution_count": 13,
     "metadata": {},
     "output_type": "execute_result"
    }
   ],
   "source": [
    "df['target'].value_counts() "
   ]
  },
  {
   "cell_type": "code",
   "execution_count": 14,
   "id": "b1f1e1b0",
   "metadata": {
    "ExecuteTime": {
     "end_time": "2023-01-03T12:51:37.598434Z",
     "start_time": "2023-01-03T12:51:37.577451Z"
    }
   },
   "outputs": [],
   "source": [
    "X = df.drop([\"target\"], axis = 1)\n",
    "y = df[\"target\"]\n",
    "\n",
    "test_size = 0.2\n",
    "seed = 25\n",
    "\n",
    "X_train, X_test, y_train, y_test = train_test_split(X, y, test_size=test_size, random_state=seed)"
   ]
  },
  {
   "cell_type": "code",
   "execution_count": 15,
   "id": "dfcb7491",
   "metadata": {
    "ExecuteTime": {
     "end_time": "2023-01-03T12:51:38.311092Z",
     "start_time": "2023-01-03T12:51:38.299708Z"
    }
   },
   "outputs": [
    {
     "data": {
      "text/plain": [
       "Counter({1: 992, 0: 87})"
      ]
     },
     "execution_count": 15,
     "metadata": {},
     "output_type": "execute_result"
    }
   ],
   "source": [
    "from collections import Counter\n",
    "Counter(y_train)"
   ]
  },
  {
   "cell_type": "code",
   "execution_count": 37,
   "id": "80d32f52",
   "metadata": {
    "ExecuteTime": {
     "end_time": "2023-01-03T13:44:59.758166Z",
     "start_time": "2023-01-03T13:44:59.736456Z"
    }
   },
   "outputs": [
    {
     "name": "stdout",
     "output_type": "stream",
     "text": [
      "The number of classes before fit Counter({1: 992, 0: 87})\n",
      "The number of classes after fit Counter({1: 992, 0: 992})\n"
     ]
    }
   ],
   "source": [
    "from imblearn.over_sampling import RandomOverSampler\n",
    "os=RandomOverSampler()\n",
    "X_train_os,y_train_os=os.fit_resample(X_train,y_train)\n",
    "print(\"The number of classes before fit {}\".format(Counter(y_train)))\n",
    "print(\"The number of classes after fit {}\".format(Counter(y_train_os)))"
   ]
  },
  {
   "cell_type": "code",
   "execution_count": 23,
   "id": "5a42ba54",
   "metadata": {
    "ExecuteTime": {
     "end_time": "2023-01-03T12:58:22.434977Z",
     "start_time": "2023-01-03T12:58:22.412904Z"
    }
   },
   "outputs": [
    {
     "name": "stdout",
     "output_type": "stream",
     "text": [
      "The number of classes before fit Counter({1: 992, 0: 87})\n",
      "The number of classes after fit Counter({1: 964, 0: 964})\n"
     ]
    }
   ],
   "source": [
    "from imblearn.combine import SMOTETomek\n",
    "os=SMOTETomek()\n",
    "X_train_ns,y_train_ns=os.fit_resample(X_train,y_train)\n",
    "print(\"The number of classes before fit {}\".format(Counter(y_train)))\n",
    "print(\"The number of classes after fit {}\".format(Counter(y_train_ns)))"
   ]
  },
  {
   "cell_type": "code",
   "execution_count": 67,
   "id": "851a411e",
   "metadata": {
    "ExecuteTime": {
     "end_time": "2023-01-03T14:07:48.213687Z",
     "start_time": "2023-01-03T14:07:48.195897Z"
    }
   },
   "outputs": [],
   "source": [
    "## Training the model\n",
    "models={\n",
    "    'LogisticRegression': LogisticRegression(),\n",
    "    'GaussianNB': GaussianNB(),\n",
    "    'KNeighborsClassifier': KNeighborsClassifier(),\n",
    "    'DecisionTreeClassifier': DecisionTreeClassifier(),\n",
    "    'RandomForestClassifier': RandomForestClassifier(),\n",
    "    'SVC': SVC()\n",
    "}"
   ]
  },
  {
   "cell_type": "code",
   "execution_count": 68,
   "id": "f7ce3567",
   "metadata": {
    "ExecuteTime": {
     "end_time": "2023-01-03T14:07:49.241280Z",
     "start_time": "2023-01-03T14:07:49.017041Z"
    }
   },
   "outputs": [
    {
     "name": "stdout",
     "output_type": "stream",
     "text": [
      "LogisticRegression trained\n",
      "GaussianNB trained\n",
      "KNeighborsClassifier trained\n",
      "DecisionTreeClassifier trained\n",
      "RandomForestClassifier trained\n",
      "SVC trained\n"
     ]
    }
   ],
   "source": [
    "for model_name,model in models.items():\n",
    "    model.fit(X_train, y_train)\n",
    "    print(model_name,'trained')"
   ]
  },
  {
   "cell_type": "code",
   "execution_count": 69,
   "id": "a1b814f9",
   "metadata": {
    "ExecuteTime": {
     "end_time": "2023-01-03T14:07:50.002266Z",
     "start_time": "2023-01-03T14:07:49.887201Z"
    },
    "scrolled": true
   },
   "outputs": [
    {
     "name": "stdout",
     "output_type": "stream",
     "text": [
      "LogisticRegression\n",
      "Train Scores\n",
      "    Accuracy Score: 0.92\n",
      "    F1 Score: 0.96\n",
      "Test Scores\n",
      "    Accuracy Score: 0.92\n",
      "    F1 Score: 0.96\n",
      "_______________________________\n",
      "GaussianNB\n",
      "Train Scores\n",
      "    Accuracy Score: 0.87\n",
      "    F1 Score: 0.93\n",
      "Test Scores\n",
      "    Accuracy Score: 0.84\n",
      "    F1 Score: 0.91\n",
      "_______________________________\n",
      "KNeighborsClassifier\n",
      "Train Scores\n",
      "    Accuracy Score: 0.92\n",
      "    F1 Score: 0.96\n",
      "Test Scores\n",
      "    Accuracy Score: 0.91\n",
      "    F1 Score: 0.95\n",
      "_______________________________\n",
      "DecisionTreeClassifier\n",
      "Train Scores\n",
      "    Accuracy Score: 1.00\n",
      "    F1 Score: 1.00\n",
      "Test Scores\n",
      "    Accuracy Score: 0.88\n",
      "    F1 Score: 0.93\n",
      "_______________________________\n",
      "RandomForestClassifier\n",
      "Train Scores\n",
      "    Accuracy Score: 1.00\n",
      "    F1 Score: 1.00\n",
      "Test Scores\n",
      "    Accuracy Score: 0.92\n",
      "    F1 Score: 0.96\n",
      "_______________________________\n",
      "SVC\n",
      "Train Scores\n",
      "    Accuracy Score: 0.92\n",
      "    F1 Score: 0.96\n",
      "Test Scores\n",
      "    Accuracy Score: 0.92\n",
      "    F1 Score: 0.96\n",
      "_______________________________\n"
     ]
    }
   ],
   "source": [
    "for model_name,model in models.items():\n",
    "    \n",
    "    print(model_name)\n",
    "    print(\"Train Scores\")\n",
    "    y_pred = model.predict(X_train)\n",
    "    print(\"    Accuracy Score: {:.2f}\".format(accuracy_score(y_train, y_pred)))\n",
    "    print(\"    F1 Score: {:.2f}\".format(f1_score(y_train, y_pred)))\n",
    "    \n",
    "    print(\"Test Scores\")\n",
    "    y_pred = model.predict(X_test)\n",
    "    print(\"    Accuracy Score: {:.2f}\".format(accuracy_score(y_test, y_pred)))\n",
    "    print(\"    F1 Score: {:.2f}\".format(f1_score(y_test, y_pred)))\n",
    "\n",
    "    print(\"_______________________________\")"
   ]
  },
  {
   "cell_type": "code",
   "execution_count": 70,
   "id": "137b230a",
   "metadata": {
    "ExecuteTime": {
     "end_time": "2023-01-03T14:07:50.875295Z",
     "start_time": "2023-01-03T14:07:50.726918Z"
    }
   },
   "outputs": [
    {
     "data": {
      "text/plain": [
       "RandomForestClassifier()"
      ]
     },
     "execution_count": 70,
     "metadata": {},
     "output_type": "execute_result"
    }
   ],
   "source": [
    "RFCL = RandomForestClassifier(n_estimators=100)\n",
    "RFCL.fit(X_train, y_train)"
   ]
  },
  {
   "cell_type": "code",
   "execution_count": 71,
   "id": "f7b6fdb0",
   "metadata": {
    "ExecuteTime": {
     "end_time": "2023-01-03T14:07:51.107803Z",
     "start_time": "2023-01-03T14:07:51.090069Z"
    }
   },
   "outputs": [
    {
     "data": {
      "text/plain": [
       "92.22222222222223"
      ]
     },
     "execution_count": 71,
     "metadata": {},
     "output_type": "execute_result"
    }
   ],
   "source": [
    "RFCL_Predict = RFCL.predict(X_test)\n",
    "accuracy_score(y_test, RFCL_Predict)*100"
   ]
  },
  {
   "cell_type": "code",
   "execution_count": 72,
   "id": "dfba91d8",
   "metadata": {
    "ExecuteTime": {
     "end_time": "2023-01-03T14:07:51.651376Z",
     "start_time": "2023-01-03T14:07:51.645137Z"
    }
   },
   "outputs": [
    {
     "data": {
      "text/plain": [
       "RandomForestClassifier()"
      ]
     },
     "execution_count": 72,
     "metadata": {},
     "output_type": "execute_result"
    }
   ],
   "source": [
    "RFCL"
   ]
  },
  {
   "cell_type": "code",
   "execution_count": 73,
   "id": "b7dc57bb",
   "metadata": {
    "ExecuteTime": {
     "end_time": "2023-01-03T14:07:52.146155Z",
     "start_time": "2023-01-03T14:07:52.096248Z"
    }
   },
   "outputs": [
    {
     "name": "stdout",
     "output_type": "stream",
     "text": [
      "              precision    recall  f1-score   support\n",
      "\n",
      "           0       0.50      0.05      0.09        21\n",
      "           1       0.93      1.00      0.96       249\n",
      "\n",
      "    accuracy                           0.92       270\n",
      "   macro avg       0.71      0.52      0.52       270\n",
      "weighted avg       0.89      0.92      0.89       270\n",
      "\n",
      "              precision    recall  f1-score   support\n",
      "\n",
      "           0       0.11      0.14      0.12        21\n",
      "           1       0.93      0.90      0.91       249\n",
      "\n",
      "    accuracy                           0.84       270\n",
      "   macro avg       0.52      0.52      0.52       270\n",
      "weighted avg       0.86      0.84      0.85       270\n",
      "\n",
      "              precision    recall  f1-score   support\n",
      "\n",
      "           0       0.00      0.00      0.00        21\n",
      "           1       0.92      0.98      0.95       249\n",
      "\n",
      "    accuracy                           0.91       270\n",
      "   macro avg       0.46      0.49      0.48       270\n",
      "weighted avg       0.85      0.91      0.88       270\n",
      "\n",
      "              precision    recall  f1-score   support\n",
      "\n",
      "           0       0.07      0.05      0.06        21\n",
      "           1       0.92      0.95      0.93       249\n",
      "\n",
      "    accuracy                           0.88       270\n",
      "   macro avg       0.50      0.50      0.50       270\n",
      "weighted avg       0.86      0.88      0.87       270\n",
      "\n",
      "              precision    recall  f1-score   support\n",
      "\n",
      "           0       0.00      0.00      0.00        21\n",
      "           1       0.92      1.00      0.96       249\n",
      "\n",
      "    accuracy                           0.92       270\n",
      "   macro avg       0.46      0.50      0.48       270\n",
      "weighted avg       0.85      0.92      0.88       270\n",
      "\n",
      "              precision    recall  f1-score   support\n",
      "\n",
      "           0       0.00      0.00      0.00        21\n",
      "           1       0.92      1.00      0.96       249\n",
      "\n",
      "    accuracy                           0.92       270\n",
      "   macro avg       0.46      0.50      0.48       270\n",
      "weighted avg       0.85      0.92      0.88       270\n",
      "\n"
     ]
    }
   ],
   "source": [
    "for model_name,model in models.items():\n",
    "    y_pred = model.predict(X_test)\n",
    "    print(classification_report(y_test,y_pred))\n"
   ]
  },
  {
   "cell_type": "code",
   "execution_count": 75,
   "id": "c8fca76d",
   "metadata": {
    "ExecuteTime": {
     "end_time": "2023-01-03T14:11:17.773106Z",
     "start_time": "2023-01-03T14:11:17.762303Z"
    }
   },
   "outputs": [],
   "source": [
    "df=pd.read_csv(r'C:/Users/pbann/Downloads/1/train.csv')"
   ]
  },
  {
   "cell_type": "code",
   "execution_count": 77,
   "id": "c2936313",
   "metadata": {
    "ExecuteTime": {
     "end_time": "2023-01-03T14:11:30.265165Z",
     "start_time": "2023-01-03T14:11:30.253215Z"
    }
   },
   "outputs": [
    {
     "data": {
      "text/plain": [
       "Months since Last Donation     0\n",
       "Number of Donations            0\n",
       "Total Volume Donated (c.c.)    0\n",
       "Months since First Donation    0\n",
       "target                         0\n",
       "dtype: int64"
      ]
     },
     "execution_count": 77,
     "metadata": {},
     "output_type": "execute_result"
    }
   ],
   "source": [
    "df.isnull().sum()"
   ]
  },
  {
   "cell_type": "code",
   "execution_count": 79,
   "id": "e4dc2994",
   "metadata": {
    "ExecuteTime": {
     "end_time": "2023-01-03T14:11:52.432753Z",
     "start_time": "2023-01-03T14:11:52.426366Z"
    }
   },
   "outputs": [
    {
     "data": {
      "text/plain": [
       "0    350\n",
       "1    110\n",
       "Name: target, dtype: int64"
      ]
     },
     "execution_count": 79,
     "metadata": {},
     "output_type": "execute_result"
    }
   ],
   "source": [
    "df['target'].value_counts()"
   ]
  },
  {
   "cell_type": "code",
   "execution_count": 80,
   "id": "2bb61781",
   "metadata": {
    "ExecuteTime": {
     "end_time": "2023-01-03T14:12:24.579049Z",
     "start_time": "2023-01-03T14:12:24.563532Z"
    }
   },
   "outputs": [],
   "source": [
    "X = df.drop([\"target\"], axis = 1)\n",
    "y = df[\"target\"]\n",
    "\n",
    "test_size = 0.2\n",
    "seed = 25\n",
    "\n",
    "X_train, X_test, y_train, y_test = train_test_split(X, y, test_size=test_size, random_state=seed)"
   ]
  },
  {
   "cell_type": "code",
   "execution_count": 83,
   "id": "782fa1b8",
   "metadata": {
    "ExecuteTime": {
     "end_time": "2023-01-03T14:13:55.278548Z",
     "start_time": "2023-01-03T14:13:55.258538Z"
    }
   },
   "outputs": [
    {
     "data": {
      "text/plain": [
       "0      1\n",
       "1      0\n",
       "2      0\n",
       "3      1\n",
       "4      0\n",
       "      ..\n",
       "455    1\n",
       "456    0\n",
       "457    1\n",
       "458    0\n",
       "459    1\n",
       "Name: target, Length: 460, dtype: int64"
      ]
     },
     "execution_count": 83,
     "metadata": {},
     "output_type": "execute_result"
    }
   ],
   "source": [
    "y"
   ]
  },
  {
   "cell_type": "code",
   "execution_count": 96,
   "id": "ea7267ef",
   "metadata": {
    "ExecuteTime": {
     "end_time": "2023-01-03T14:18:49.190959Z",
     "start_time": "2023-01-03T14:18:49.175964Z"
    }
   },
   "outputs": [],
   "source": [
    "models={\n",
    "    'LogisticRegression': LogisticRegression(),\n",
    "    'GaussianNB': GaussianNB(),\n",
    "    'KNeighborsClassifier': KNeighborsClassifier(),\n",
    "    'DecisionTreeClassifier': DecisionTreeClassifier(),\n",
    "    'RandomForestClassifier': RandomForestClassifier(),\n",
    "    'SVC': SVC(),\n",
    "    'GBC':GradientBoostingClassifier()\n",
    "}"
   ]
  },
  {
   "cell_type": "code",
   "execution_count": 98,
   "id": "7827ca92",
   "metadata": {
    "ExecuteTime": {
     "end_time": "2023-01-03T14:19:49.683555Z",
     "start_time": "2023-01-03T14:19:49.487142Z"
    }
   },
   "outputs": [
    {
     "name": "stdout",
     "output_type": "stream",
     "text": [
      "LogisticRegression trained\n",
      "GaussianNB trained\n",
      "KNeighborsClassifier trained\n",
      "DecisionTreeClassifier trained\n",
      "RandomForestClassifier trained\n",
      "SVC trained\n",
      "GBC trained\n"
     ]
    }
   ],
   "source": [
    "for model_name,model in models.items():\n",
    "    model.fit(X_train, y_train)\n",
    "    print(model_name,'trained')"
   ]
  },
  {
   "cell_type": "code",
   "execution_count": 99,
   "id": "08a4cc6c",
   "metadata": {
    "ExecuteTime": {
     "end_time": "2023-01-03T14:19:51.425488Z",
     "start_time": "2023-01-03T14:19:51.351030Z"
    }
   },
   "outputs": [
    {
     "name": "stdout",
     "output_type": "stream",
     "text": [
      "LogisticRegression\n",
      "Train Scores\n",
      "    Accuracy Score: 0.77\n",
      "    F1 Score: 0.13\n",
      "Test Scores\n",
      "    Accuracy Score: 0.70\n",
      "    F1 Score: 0.18\n",
      "_______________________________\n",
      "GaussianNB\n",
      "Train Scores\n",
      "    Accuracy Score: 0.77\n",
      "    F1 Score: 0.26\n",
      "Test Scores\n",
      "    Accuracy Score: 0.71\n",
      "    F1 Score: 0.34\n",
      "_______________________________\n",
      "KNeighborsClassifier\n",
      "Train Scores\n",
      "    Accuracy Score: 0.83\n",
      "    F1 Score: 0.51\n",
      "Test Scores\n",
      "    Accuracy Score: 0.72\n",
      "    F1 Score: 0.38\n",
      "_______________________________\n",
      "DecisionTreeClassifier\n",
      "Train Scores\n",
      "    Accuracy Score: 0.95\n",
      "    F1 Score: 0.88\n",
      "Test Scores\n",
      "    Accuracy Score: 0.66\n",
      "    F1 Score: 0.37\n",
      "_______________________________\n",
      "RandomForestClassifier\n",
      "Train Scores\n",
      "    Accuracy Score: 0.95\n",
      "    F1 Score: 0.88\n",
      "Test Scores\n",
      "    Accuracy Score: 0.72\n",
      "    F1 Score: 0.41\n",
      "_______________________________\n",
      "SVC\n",
      "Train Scores\n",
      "    Accuracy Score: 0.79\n",
      "    F1 Score: 0.02\n",
      "Test Scores\n",
      "    Accuracy Score: 0.68\n",
      "    F1 Score: 0.06\n",
      "_______________________________\n",
      "GBC\n",
      "Train Scores\n",
      "    Accuracy Score: 0.88\n",
      "    F1 Score: 0.67\n",
      "Test Scores\n",
      "    Accuracy Score: 0.68\n",
      "    F1 Score: 0.29\n",
      "_______________________________\n"
     ]
    }
   ],
   "source": [
    "for model_name,model in models.items():\n",
    "    \n",
    "    print(model_name)\n",
    "    print(\"Train Scores\")\n",
    "    y_pred = model.predict(X_train)\n",
    "    print(\"    Accuracy Score: {:.2f}\".format(accuracy_score(y_train, y_pred)))\n",
    "    print(\"    F1 Score: {:.2f}\".format(f1_score(y_train, y_pred)))\n",
    "    \n",
    "    print(\"Test Scores\")\n",
    "    y_pred = model.predict(X_test)\n",
    "    print(\"    Accuracy Score: {:.2f}\".format(accuracy_score(y_test, y_pred)))\n",
    "    print(\"    F1 Score: {:.2f}\".format(f1_score(y_test, y_pred)))\n",
    "\n",
    "    print(\"_______________________________\")"
   ]
  },
  {
   "cell_type": "code",
   "execution_count": 100,
   "id": "1217cef9",
   "metadata": {
    "ExecuteTime": {
     "end_time": "2023-01-03T14:21:33.765223Z",
     "start_time": "2023-01-03T14:21:33.714166Z"
    }
   },
   "outputs": [
    {
     "name": "stdout",
     "output_type": "stream",
     "text": [
      "              precision    recall  f1-score   support\n",
      "\n",
      "           0       0.69      0.98      0.81        62\n",
      "           1       0.75      0.10      0.18        30\n",
      "\n",
      "    accuracy                           0.70        92\n",
      "   macro avg       0.72      0.54      0.49        92\n",
      "weighted avg       0.71      0.70      0.61        92\n",
      "\n",
      "              precision    recall  f1-score   support\n",
      "\n",
      "           0       0.72      0.94      0.81        62\n",
      "           1       0.64      0.23      0.34        30\n",
      "\n",
      "    accuracy                           0.71        92\n",
      "   macro avg       0.68      0.58      0.58        92\n",
      "weighted avg       0.69      0.71      0.66        92\n",
      "\n",
      "              precision    recall  f1-score   support\n",
      "\n",
      "           0       0.72      0.94      0.82        62\n",
      "           1       0.67      0.27      0.38        30\n",
      "\n",
      "    accuracy                           0.72        92\n",
      "   macro avg       0.70      0.60      0.60        92\n",
      "weighted avg       0.71      0.72      0.67        92\n",
      "\n",
      "              precision    recall  f1-score   support\n",
      "\n",
      "           0       0.71      0.84      0.77        62\n",
      "           1       0.47      0.30      0.37        30\n",
      "\n",
      "    accuracy                           0.66        92\n",
      "   macro avg       0.59      0.57      0.57        92\n",
      "weighted avg       0.63      0.66      0.64        92\n",
      "\n",
      "              precision    recall  f1-score   support\n",
      "\n",
      "           0       0.73      0.92      0.81        62\n",
      "           1       0.64      0.30      0.41        30\n",
      "\n",
      "    accuracy                           0.72        92\n",
      "   macro avg       0.69      0.61      0.61        92\n",
      "weighted avg       0.70      0.72      0.68        92\n",
      "\n",
      "              precision    recall  f1-score   support\n",
      "\n",
      "           0       0.68      1.00      0.81        62\n",
      "           1       1.00      0.03      0.06        30\n",
      "\n",
      "    accuracy                           0.68        92\n",
      "   macro avg       0.84      0.52      0.44        92\n",
      "weighted avg       0.79      0.68      0.57        92\n",
      "\n",
      "              precision    recall  f1-score   support\n",
      "\n",
      "           0       0.70      0.92      0.80        62\n",
      "           1       0.55      0.20      0.29        30\n",
      "\n",
      "    accuracy                           0.68        92\n",
      "   macro avg       0.62      0.56      0.54        92\n",
      "weighted avg       0.65      0.68      0.63        92\n",
      "\n"
     ]
    }
   ],
   "source": [
    "for model_name,model in models.items():\n",
    "    y_pred = model.predict(X_test)\n",
    "    print(classification_report(y_test,y_pred))\n"
   ]
  },
  {
   "cell_type": "code",
   "execution_count": 86,
   "id": "92472550",
   "metadata": {
    "ExecuteTime": {
     "end_time": "2023-01-03T14:15:27.658891Z",
     "start_time": "2023-01-03T14:15:27.595190Z"
    }
   },
   "outputs": [],
   "source": [
    "gbc=GradientBoostingClassifier()\n",
    "gbc.fit(X_train,y_train)\n",
    "gbc_p=gbc.predict(X_test)"
   ]
  },
  {
   "cell_type": "code",
   "execution_count": null,
   "id": "704e55ec",
   "metadata": {},
   "outputs": [],
   "source": [
    "accuracy_score(y_train,)"
   ]
  },
  {
   "cell_type": "code",
   "execution_count": null,
   "id": "de85d59c",
   "metadata": {},
   "outputs": [],
   "source": []
  },
  {
   "cell_type": "code",
   "execution_count": null,
   "id": "c29ad714",
   "metadata": {},
   "outputs": [],
   "source": []
  },
  {
   "cell_type": "code",
   "execution_count": null,
   "id": "7bc74a4e",
   "metadata": {},
   "outputs": [],
   "source": []
  },
  {
   "cell_type": "code",
   "execution_count": null,
   "id": "9d63e294",
   "metadata": {},
   "outputs": [],
   "source": []
  }
 ],
 "metadata": {
  "kernelspec": {
   "display_name": "Python 3 (ipykernel)",
   "language": "python",
   "name": "python3"
  },
  "language_info": {
   "codemirror_mode": {
    "name": "ipython",
    "version": 3
   },
   "file_extension": ".py",
   "mimetype": "text/x-python",
   "name": "python",
   "nbconvert_exporter": "python",
   "pygments_lexer": "ipython3",
   "version": "3.9.13"
  }
 },
 "nbformat": 4,
 "nbformat_minor": 5
}
